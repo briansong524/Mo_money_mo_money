{
 "cells": [
  {
   "cell_type": "code",
   "execution_count": 1,
   "metadata": {},
   "outputs": [],
   "source": [
    "import datetime as dt\n",
    "from datetime import datetime, timedelta\n",
    "import json\n",
    "\n",
    "import pandas as pd\n",
    "\n",
    "import praw\n",
    "from psaw import PushshiftAPI\n"
   ]
  },
  {
   "cell_type": "code",
   "execution_count": 2,
   "metadata": {},
   "outputs": [
    {
     "name": "stderr",
     "output_type": "stream",
     "text": [
      "Version 7.3.0 of praw is outdated. Version 7.4.0 was released 3 days ago.\n"
     ]
    }
   ],
   "source": [
    "secret_dir = 'C:/Users/songb/Documents/py_secure/'\n",
    "with open(secret_dir + 'reddit.json','r') as in_:\n",
    "    creds = json.load(in_)\n",
    "\n",
    "reddit = praw.Reddit(client_id = creds['client_id'],\n",
    "                     client_secret = creds['client_secret'],\n",
    "                     user_agent = creds['user_agent']\n",
    "                    )\n"
   ]
  },
  {
   "cell_type": "code",
   "execution_count": 3,
   "metadata": {},
   "outputs": [
    {
     "name": "stdout",
     "output_type": "stream",
     "text": [
      "[D] Machine Learning - WAYR (What Are You Reading) - Week 118\n",
      "[R] Researchers From Tel Aviv University, UC Berkeley and NVIDIA Introduce ‘DETReg’, A Novel Unsupervised AI For Object Detection\n",
      "[Research] How to mix continuous and discrete categorical signals in LSTM-Autoencoder or other anomaly detection methods?\n",
      "[D] Inferring general physical laws from observations in 300 lines of code\n",
      "[D] What is the current community standing on Nature Machine Intelligence?\n",
      "[D] Are we just learning probability distributions and calling this \"intelligence\"?\n",
      "[D] How to assess different anomaly detection algorithms when there is no ground truth\n",
      "[D] SOTA Super-Resolution explained - Real-ESRGAN: Training Real-World Blind Super-Resolution with Pure Synthetic Data by Xintao Wang et al. 5 minute summary\n",
      "[N] Facebook AI Releases ‘VoxPopuli’, A Large-Scale Open Multilingual Speech Corpus For AI Translations in NLP Systems\n",
      "[R] Synthetic Data for Perception in Autonomous Driving - Link to free online lecture by the authors in comments\n"
     ]
    }
   ],
   "source": [
    "hot_posts = reddit.subreddit('MachineLearning').hot(limit=10)\n",
    "for post in hot_posts:\n",
    "    print(post.title)"
   ]
  },
  {
   "cell_type": "code",
   "execution_count": 4,
   "metadata": {},
   "outputs": [],
   "source": [
    "\n",
    "api = PushshiftAPI()\n",
    "\n",
    "# start_time = int(dt.datetime(2019, 1, 1).timestamp())\n",
    "# end_time = int(dt.datetime(2019, 1, 3).timestamp())\n",
    "\n",
    "# print(list(api.search_submissions(after=start_time, before=end_time, subreddit='learnmachinelearning', \n",
    "# filter=['url','author', 'title', 'subreddit']))[0])"
   ]
  },
  {
   "cell_type": "code",
   "execution_count": 5,
   "metadata": {},
   "outputs": [],
   "source": [
    "# # list all stocks\n",
    "# url = \"ftp://ftp.nasdaqtrader.com/SymbolDirectory/nasdaqlisted.txt\"\n",
    "# df = pd.read_csv(url, sep=\"|\")\n",
    "# print(df.head())\n",
    "# symbols = df.Symbol.map(lambda x: x.lower()).tolist()\n",
    "# list_of_symbols = '\\n'.join(symbols)\n",
    "# with open('all_symbols.txt','w') as out_:\n",
    "#     out_.write(list_of_symbols)"
   ]
  },
  {
   "cell_type": "code",
   "execution_count": 6,
   "metadata": {},
   "outputs": [
    {
     "data": {
      "text/plain": [
       "['aacg', 'aadr', 'aal', 'aame', 'aaoi']"
      ]
     },
     "execution_count": 6,
     "metadata": {},
     "output_type": "execute_result"
    }
   ],
   "source": [
    "with open('all_symbols.txt','r') as in_:\n",
    "    symbols = in_.read()\n",
    "symbols = symbols.split('\\n')\n",
    "symbols[:5]"
   ]
  },
  {
   "cell_type": "code",
   "execution_count": 12,
   "metadata": {},
   "outputs": [
    {
     "name": "stdout",
     "output_type": "stream",
     "text": [
      "2021-08-02 14:15:09.819157 1627938909\n",
      "2021-07-31 14:15:09.819157 1627766109\n"
     ]
    }
   ],
   "source": [
    "today = datetime.now()\n",
    "print(today, int(today.timestamp()))\n",
    "yesterday = today - timedelta(days = 2)\n",
    "print(yesterday, int(yesterday.timestamp()))\n",
    "\n",
    "today = int(today.timestamp())\n",
    "yesterday = int(yesterday.timestamp())\n",
    "\n",
    "# yesterday = 1514764800\n",
    "# today = 1517443200\n",
    "\n",
    "submissions = api.search_submissions(\n",
    "    after=yesterday,\n",
    "    before=today,\n",
    "    subreddit=\"wallstreetbets\",\n",
    "    title = 'Daily Discussion',\n",
    "#     author=\"OPINION_IS_UNPOPULAR\"\n",
    "    filter=['url','author', 'title', 'subreddit']\n",
    "    )\n",
    "# ,\n",
    "#     max_results_per_request=5)\n",
    "\n",
    "sub_list = list(submissions)\n",
    "# c = 0\n",
    "\n",
    "# for post in submissions:\n",
    "#     c += 1\n",
    "#     title = post.title\n",
    "#     print(title)"
   ]
  },
  {
   "cell_type": "code",
   "execution_count": 13,
   "metadata": {},
   "outputs": [],
   "source": [
    "url_ = sub_list[0].url"
   ]
  },
  {
   "cell_type": "code",
   "execution_count": 15,
   "metadata": {},
   "outputs": [],
   "source": [
    "url_results = list(api.search_submissions(url=url_, limit=500))"
   ]
  },
  {
   "cell_type": "code",
   "execution_count": 16,
   "metadata": {
    "scrolled": true
   },
   "outputs": [
    {
     "data": {
      "text/plain": [
       "[submission(all_awardings=[], allow_live_comments=False, author='OPINION_IS_UNPOPULAR', author_flair_background_color='', author_flair_css_class=None, author_flair_richtext=[{'e': 'text', 't': 'top notch guava flavored mango eggplant'}], author_flair_text='top notch guava flavored mango eggplant', author_flair_text_color='dark', author_flair_type='richtext', author_fullname='t2_bd6q5', author_is_blocked=False, author_patreon_flair=False, author_premium=True, awarders=[], can_mod_post=False, contest_mode=False, created_utc=1627898416, domain='self.wallstreetbets', full_link='https://www.reddit.com/r/wallstreetbets/comments/owbfjf/daily_discussion_thread_for_august_02_2021/', gildings={}, id='owbfjf', is_created_from_ads_ui=False, is_crosspostable=True, is_meta=False, is_original_content=False, is_reddit_media_domain=False, is_robot_indexable=True, is_self=True, is_video=False, link_flair_background_color='#ffd635', link_flair_css_class='daily', link_flair_richtext=[{'e': 'text', 't': 'Daily Discussion'}], link_flair_template_id='7a32c644-8394-11e8-87f6-0ee6340c53d4', link_flair_text='Daily Discussion', link_flair_text_color='dark', link_flair_type='richtext', locked=False, media_only=False, no_follow=True, num_comments=0, num_crossposts=0, over_18=False, parent_whitelist_status='some_ads', permalink='/r/wallstreetbets/comments/owbfjf/daily_discussion_thread_for_august_02_2021/', pinned=False, pwls=7, retrieved_on=1627898437, score=1, selftext='Your daily trading discussion thread. Please keep the shitposting to a minimum. \\n\\n^Navigate ^WSB |^We ^recommend ^best ^daily ^DD\\n:--|:--                                 \\n**DD** | [All](https://reddit.com/r/wallstreetbets/search?sort=new&amp;restrict_sr=on&amp;q=flair%3ADD) / [**Best Daily**](https://www.reddit.com/r/wallstreetbets/search?sort=top&amp;q=flair%3ADD&amp;restrict_sr=on&amp;t=day) / [Best Weekly](https://www.reddit.com/r/wallstreetbets/search?sort=top&amp;q=flair%3ADD&amp;restrict_sr=on&amp;t=week)\\n**Discussion** | [All](https://reddit.com/r/wallstreetbets/search?sort=new&amp;restrict_sr=on&amp;q=flair%3ADiscussion) / [**Best Daily**](https://www.reddit.com/r/wallstreetbets/search?sort=top&amp;q=flair%3ADiscussion&amp;restrict_sr=on&amp;t=day) / [Best Weekly](https://www.reddit.com/r/wallstreetbets/search?sort=top&amp;q=flair%3ADiscussion&amp;restrict_sr=on&amp;t=week)\\n**YOLO** | [All](https://reddit.com/r/wallstreetbets/search?sort=new&amp;restrict_sr=on&amp;q=flair%3AYOLO) / [**Best Daily**](https://www.reddit.com/r/wallstreetbets/search?sort=top&amp;q=flair%3AYOLO&amp;restrict_sr=on&amp;t=day) / [Best Weekly](https://www.reddit.com/r/wallstreetbets/search?sort=top&amp;q=flair%3AYOLO&amp;restrict_sr=on&amp;t=week)\\n**Gain** | [All](https://reddit.com/r/wallstreetbets/search?sort=new&amp;restrict_sr=on&amp;q=flair%3AGain) / [**Best Daily**](https://www.reddit.com/r/wallstreetbets/search?sort=top&amp;q=flair%3AGain&amp;restrict_sr=on&amp;t=day) / [Best Weekly](https://www.reddit.com/r/wallstreetbets/search?sort=top&amp;q=flair%3AGain&amp;restrict_sr=on&amp;t=week)\\n**Loss** | [All](https://reddit.com/r/wallstreetbets/search?sort=new&amp;restrict_sr=on&amp;q=flair%3ALoss) / [**Best Daily**](https://www.reddit.com/r/wallstreetbets/search?sort=top&amp;q=flair%3ALoss&amp;restrict_sr=on&amp;t=day) / [Best Weekly](https://www.reddit.com/r/wallstreetbets/search?sort=top&amp;q=flair%3ALoss&amp;restrict_sr=on&amp;t=week)\\n\\n\\n[Weekly Earnings Discussion Thread](https://www.reddit.com/r/wallstreetbets/search?sort=new&amp;restrict_sr=on&amp;q=flair%3A%22Earnings%20Thread%22)\\n\\n**Read the [rules](https://www.reddit.com/r/wallstreetbets/wiki/contentguide) and make sure other people follow them.**\\n\\nTry [No Meme Mode](https://www.reddit.com/r/wallstreetbets/search/?q=-flair%3AMeme%20-flair%3ASatire%20-flair%3AShitpost&amp;restrict_sr=1&amp;t=day&amp;sort=hot), also accessible through the top bar.\\n\\nFollow [@Official_WSB](https://twitter.com/Official_WSB) on Twitter, all other accounts are impersonators.\\n\\nCheck out our [Discord](https://discord.gg/wallstreetbets)', send_replies=False, spoiler=False, stickied=True, subreddit='wallstreetbets', subreddit_id='t5_2th52', subreddit_subscribers=10705671, subreddit_type='public', suggested_sort='new', thumbnail='self', title='Daily Discussion Thread for August 02, 2021', total_awards_received=0, treatment_tags=[], upvote_ratio=1.0, url='https://www.reddit.com/r/wallstreetbets/comments/owbfjf/daily_discussion_thread_for_august_02_2021/', whitelist_status='some_ads', wls=7, created=1627923616.0, d_={'all_awardings': [], 'allow_live_comments': False, 'author': 'OPINION_IS_UNPOPULAR', 'author_flair_background_color': '', 'author_flair_css_class': None, 'author_flair_richtext': [{'e': 'text', 't': 'top notch guava flavored mango eggplant'}], 'author_flair_text': 'top notch guava flavored mango eggplant', 'author_flair_text_color': 'dark', 'author_flair_type': 'richtext', 'author_fullname': 't2_bd6q5', 'author_is_blocked': False, 'author_patreon_flair': False, 'author_premium': True, 'awarders': [], 'can_mod_post': False, 'contest_mode': False, 'created_utc': 1627898416, 'domain': 'self.wallstreetbets', 'full_link': 'https://www.reddit.com/r/wallstreetbets/comments/owbfjf/daily_discussion_thread_for_august_02_2021/', 'gildings': {}, 'id': 'owbfjf', 'is_created_from_ads_ui': False, 'is_crosspostable': True, 'is_meta': False, 'is_original_content': False, 'is_reddit_media_domain': False, 'is_robot_indexable': True, 'is_self': True, 'is_video': False, 'link_flair_background_color': '#ffd635', 'link_flair_css_class': 'daily', 'link_flair_richtext': [{'e': 'text', 't': 'Daily Discussion'}], 'link_flair_template_id': '7a32c644-8394-11e8-87f6-0ee6340c53d4', 'link_flair_text': 'Daily Discussion', 'link_flair_text_color': 'dark', 'link_flair_type': 'richtext', 'locked': False, 'media_only': False, 'no_follow': True, 'num_comments': 0, 'num_crossposts': 0, 'over_18': False, 'parent_whitelist_status': 'some_ads', 'permalink': '/r/wallstreetbets/comments/owbfjf/daily_discussion_thread_for_august_02_2021/', 'pinned': False, 'pwls': 7, 'retrieved_on': 1627898437, 'score': 1, 'selftext': 'Your daily trading discussion thread. Please keep the shitposting to a minimum. \\n\\n^Navigate ^WSB |^We ^recommend ^best ^daily ^DD\\n:--|:--                                 \\n**DD** | [All](https://reddit.com/r/wallstreetbets/search?sort=new&amp;restrict_sr=on&amp;q=flair%3ADD) / [**Best Daily**](https://www.reddit.com/r/wallstreetbets/search?sort=top&amp;q=flair%3ADD&amp;restrict_sr=on&amp;t=day) / [Best Weekly](https://www.reddit.com/r/wallstreetbets/search?sort=top&amp;q=flair%3ADD&amp;restrict_sr=on&amp;t=week)\\n**Discussion** | [All](https://reddit.com/r/wallstreetbets/search?sort=new&amp;restrict_sr=on&amp;q=flair%3ADiscussion) / [**Best Daily**](https://www.reddit.com/r/wallstreetbets/search?sort=top&amp;q=flair%3ADiscussion&amp;restrict_sr=on&amp;t=day) / [Best Weekly](https://www.reddit.com/r/wallstreetbets/search?sort=top&amp;q=flair%3ADiscussion&amp;restrict_sr=on&amp;t=week)\\n**YOLO** | [All](https://reddit.com/r/wallstreetbets/search?sort=new&amp;restrict_sr=on&amp;q=flair%3AYOLO) / [**Best Daily**](https://www.reddit.com/r/wallstreetbets/search?sort=top&amp;q=flair%3AYOLO&amp;restrict_sr=on&amp;t=day) / [Best Weekly](https://www.reddit.com/r/wallstreetbets/search?sort=top&amp;q=flair%3AYOLO&amp;restrict_sr=on&amp;t=week)\\n**Gain** | [All](https://reddit.com/r/wallstreetbets/search?sort=new&amp;restrict_sr=on&amp;q=flair%3AGain) / [**Best Daily**](https://www.reddit.com/r/wallstreetbets/search?sort=top&amp;q=flair%3AGain&amp;restrict_sr=on&amp;t=day) / [Best Weekly](https://www.reddit.com/r/wallstreetbets/search?sort=top&amp;q=flair%3AGain&amp;restrict_sr=on&amp;t=week)\\n**Loss** | [All](https://reddit.com/r/wallstreetbets/search?sort=new&amp;restrict_sr=on&amp;q=flair%3ALoss) / [**Best Daily**](https://www.reddit.com/r/wallstreetbets/search?sort=top&amp;q=flair%3ALoss&amp;restrict_sr=on&amp;t=day) / [Best Weekly](https://www.reddit.com/r/wallstreetbets/search?sort=top&amp;q=flair%3ALoss&amp;restrict_sr=on&amp;t=week)\\n\\n\\n[Weekly Earnings Discussion Thread](https://www.reddit.com/r/wallstreetbets/search?sort=new&amp;restrict_sr=on&amp;q=flair%3A%22Earnings%20Thread%22)\\n\\n**Read the [rules](https://www.reddit.com/r/wallstreetbets/wiki/contentguide) and make sure other people follow them.**\\n\\nTry [No Meme Mode](https://www.reddit.com/r/wallstreetbets/search/?q=-flair%3AMeme%20-flair%3ASatire%20-flair%3AShitpost&amp;restrict_sr=1&amp;t=day&amp;sort=hot), also accessible through the top bar.\\n\\nFollow [@Official_WSB](https://twitter.com/Official_WSB) on Twitter, all other accounts are impersonators.\\n\\nCheck out our [Discord](https://discord.gg/wallstreetbets)', 'send_replies': False, 'spoiler': False, 'stickied': True, 'subreddit': 'wallstreetbets', 'subreddit_id': 't5_2th52', 'subreddit_subscribers': 10705671, 'subreddit_type': 'public', 'suggested_sort': 'new', 'thumbnail': 'self', 'title': 'Daily Discussion Thread for August 02, 2021', 'total_awards_received': 0, 'treatment_tags': [], 'upvote_ratio': 1.0, 'url': 'https://www.reddit.com/r/wallstreetbets/comments/owbfjf/daily_discussion_thread_for_august_02_2021/', 'whitelist_status': 'some_ads', 'wls': 7, 'created': 1627923616.0})]"
      ]
     },
     "execution_count": 16,
     "metadata": {},
     "output_type": "execute_result"
    }
   ],
   "source": [
    "url_results"
   ]
  },
  {
   "cell_type": "code",
   "execution_count": 18,
   "metadata": {},
   "outputs": [
    {
     "data": {
      "text/plain": [
       "(1, True)"
      ]
     },
     "execution_count": 18,
     "metadata": {},
     "output_type": "execute_result"
    }
   ],
   "source": [
    "len(url_results), any(r.url == url_ for r in url_results)"
   ]
  },
  {
   "cell_type": "code",
   "execution_count": 8,
   "metadata": {},
   "outputs": [],
   "source": [
    "\n",
    "# after = int(datetime(2020, 12, 1).timestamp())  \n",
    "# # start Dec 1 (inclusive)\n",
    "\n",
    "# before = int(datetime(2021, 3, 1).timestamp())  \n",
    "# # end Mar 1 (exclusive)\n",
    "\n",
    "# subs = api.search_submissions(\n",
    "#     after=after,\n",
    "#     before=before,\n",
    "#     subreddit=\"wallstreetbets\",\n",
    "#     q=\"ponzi | gamestop\",\n",
    "#     max_results_per_request=100)"
   ]
  },
  {
   "cell_type": "code",
   "execution_count": 9,
   "metadata": {},
   "outputs": [],
   "source": [
    "# def kws_agg_by_time(kw, span_m = 60, subreddit = '', start_dt = 0):\n",
    "    "
   ]
  }
 ],
 "metadata": {
  "kernelspec": {
   "display_name": "Python 3",
   "language": "python",
   "name": "python3"
  },
  "language_info": {
   "codemirror_mode": {
    "name": "ipython",
    "version": 3
   },
   "file_extension": ".py",
   "mimetype": "text/x-python",
   "name": "python",
   "nbconvert_exporter": "python",
   "pygments_lexer": "ipython3",
   "version": "3.8.10"
  }
 },
 "nbformat": 4,
 "nbformat_minor": 2
}
