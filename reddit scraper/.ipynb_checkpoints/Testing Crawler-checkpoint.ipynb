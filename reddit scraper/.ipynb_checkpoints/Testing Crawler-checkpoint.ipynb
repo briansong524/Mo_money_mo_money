{
 "cells": [
  {
   "cell_type": "code",
   "execution_count": 2,
   "metadata": {},
   "outputs": [],
   "source": [
    "import datetime as dt\n",
    "import json\n",
    "\n",
    "import praw\n",
    "from psaw import PushshiftAPI\n"
   ]
  },
  {
   "cell_type": "code",
   "execution_count": 6,
   "metadata": {},
   "outputs": [],
   "source": [
    "secret_dir = 'C:/Users/songb/Documents/py_secure/'\n",
    "with open(secret_dir + 'reddit.json','r') as in_:\n",
    "    creds = json.load(in_)\n",
    "\n",
    "reddit = praw.Reddit(client_id = creds['client_id'],\n",
    "                     client_secret = creds['client_secret'],\n",
    "                     user_agent = creds['user_agent']\n",
    "                    )\n"
   ]
  },
  {
   "cell_type": "code",
   "execution_count": 7,
   "metadata": {},
   "outputs": [
    {
     "name": "stdout",
     "output_type": "stream",
     "text": [
      "[D] Machine Learning - WAYR (What Are You Reading) - Week 117\n",
      "[D] How is it that the YouTube recommendation system has gotten WORSE in recent years?\n",
      "[D] How to protect IP when deploying a model for commercial use?\n",
      "[D] Ghost town conferences\n",
      "[P] Remove background from video and image using machine learning, open source\n",
      "[Discussion] Rant: We keep hearing about bad and poor reviewers\n",
      "[R] Graph Kernel Attention Transformers: Toward Expressive and Scalable Graph Processing\n",
      "[D] Learning rate change based on number of step or number of epoch ?\n",
      "[N] Call for Participation: AAAI-21 Symposium on Science Guided AI to Accelerate Scientific Discovery\n",
      "[D] Do GANs and AutoEncoders realy help in reducing noise and blur from images?\n"
     ]
    }
   ],
   "source": [
    "hot_posts = reddit.subreddit('MachineLearning').hot(limit=10)\n",
    "for post in hot_posts:\n",
    "    print(post.title)"
   ]
  },
  {
   "cell_type": "code",
   "execution_count": 11,
   "metadata": {},
   "outputs": [
    {
     "name": "stdout",
     "output_type": "stream",
     "text": [
      "submission(author='ZER_0_NE', created_utc=1546497465, subreddit='learnmachinelearning', title='Are there any pre-trained models for the im2txt model developed by Google?', url='https://www.reddit.com/r/learnmachinelearning/comments/ac2z6y/are_there_any_pretrained_models_for_the_im2txt/', created=1546522665.0, d_={'author': 'ZER_0_NE', 'created_utc': 1546497465, 'subreddit': 'learnmachinelearning', 'title': 'Are there any pre-trained models for the im2txt model developed by Google?', 'url': 'https://www.reddit.com/r/learnmachinelearning/comments/ac2z6y/are_there_any_pretrained_models_for_the_im2txt/', 'created': 1546522665.0})\n"
     ]
    }
   ],
   "source": [
    "\n",
    "api = PushshiftAPI()\n",
    "\n",
    "start_time = int(dt.datetime(2019, 1, 1).timestamp())\n",
    "end_time = int(dt.datetime(2019, 1, 3).timestamp())\n",
    "\n",
    "print(list(api.search_submissions(after=start_time, before=end_time, subreddit='learnmachinelearning', \n",
    "filter=['url','author', 'title', 'subreddit']))[0])"
   ]
  },
  {
   "cell_type": "code",
   "execution_count": null,
   "metadata": {},
   "outputs": [],
   "source": []
  },
  {
   "cell_type": "code",
   "execution_count": null,
   "metadata": {},
   "outputs": [],
   "source": [
    "def kws_agg_by_time(kw, span_m = 60, subreddit = '', start_dt = 0):\n",
    "    "
   ]
  }
 ],
 "metadata": {
  "kernelspec": {
   "display_name": "Python 3",
   "language": "python",
   "name": "python3"
  },
  "language_info": {
   "codemirror_mode": {
    "name": "ipython",
    "version": 3
   },
   "file_extension": ".py",
   "mimetype": "text/x-python",
   "name": "python",
   "nbconvert_exporter": "python",
   "pygments_lexer": "ipython3",
   "version": "3.7.6"
  }
 },
 "nbformat": 4,
 "nbformat_minor": 2
}
